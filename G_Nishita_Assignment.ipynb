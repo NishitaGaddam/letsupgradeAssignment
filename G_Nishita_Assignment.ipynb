{
  "nbformat": 4,
  "nbformat_minor": 0,
  "metadata": {
    "colab": {
      "name": "G.Nishita_Assignment.ipynb",
      "provenance": [],
      "collapsed_sections": [],
      "authorship_tag": "ABX9TyPsXw8u/MvyK24QbA+OiPFZ",
      "include_colab_link": true
    },
    "kernelspec": {
      "name": "python3",
      "display_name": "Python 3"
    },
    "language_info": {
      "name": "python"
    }
  },
  "cells": [
    {
      "cell_type": "markdown",
      "metadata": {
        "id": "view-in-github",
        "colab_type": "text"
      },
      "source": [
        "<a href=\"https://colab.research.google.com/github/NishitaGaddam/letsupgradeAssignment/blob/main/G_Nishita_Assignment.ipynb\" target=\"_parent\"><img src=\"https://colab.research.google.com/assets/colab-badge.svg\" alt=\"Open In Colab\"/></a>"
      ]
    },
    {
      "cell_type": "markdown",
      "metadata": {
        "id": "cj7L9B82bzo1"
      },
      "source": [
        "1Q. Create 2 list with some brand names."
      ]
    },
    {
      "cell_type": "code",
      "metadata": {
        "id": "Op_W4yd9cB1R"
      },
      "source": [
        "list1 = [\"addidas\", \"nike\" , \"sketchers\" ,\"bata\" ,\"crocs\"] #creating list1 \n",
        "list2 = [\"h&m\" ,\"zara\" ,\"gucci\",\"veromoda\" ,\"levis\"] #creating 2nd list"
      ],
      "execution_count": null,
      "outputs": []
    },
    {
      "cell_type": "code",
      "metadata": {
        "colab": {
          "base_uri": "https://localhost:8080/"
        },
        "id": "MZSwCzIBf_7L",
        "outputId": "a7fefb6c-21ce-44c5-ea0b-b15dc95d8f53"
      },
      "source": [
        "list1[0:6] # printing the list1 to check"
      ],
      "execution_count": null,
      "outputs": [
        {
          "output_type": "execute_result",
          "data": {
            "text/plain": [
              "['addidas', 'nike', 'sketchers', 'bata', 'crocs']"
            ]
          },
          "metadata": {
            "tags": []
          },
          "execution_count": 8
        }
      ]
    },
    {
      "cell_type": "code",
      "metadata": {
        "colab": {
          "base_uri": "https://localhost:8080/"
        },
        "id": "S46nml9Qf2rx",
        "outputId": "62476ce3-0cbf-48b0-941a-17fbf8bfa1a6"
      },
      "source": [
        "list2[0:6] #printing the list2 to check"
      ],
      "execution_count": null,
      "outputs": [
        {
          "output_type": "execute_result",
          "data": {
            "text/plain": [
              "['h&m', 'zara', 'gucci', 'veromoda', 'levis']"
            ]
          },
          "metadata": {
            "tags": []
          },
          "execution_count": 9
        }
      ]
    },
    {
      "cell_type": "code",
      "metadata": {
        "colab": {
          "base_uri": "https://localhost:8080/"
        },
        "id": "M3zxvZ6Le3XE",
        "outputId": "8dea9231-658a-4a7c-806e-763c7e5c1fa2"
      },
      "source": [
        "list_brandnames = list1 + list2 # combining both the lists\n",
        "list_brandnames"
      ],
      "execution_count": null,
      "outputs": [
        {
          "output_type": "execute_result",
          "data": {
            "text/plain": [
              "['addidas',\n",
              " 'nike',\n",
              " 'sketchers',\n",
              " 'bata',\n",
              " 'crocs',\n",
              " 'h&m',\n",
              " 'zara',\n",
              " 'gucci',\n",
              " 'veromoda',\n",
              " 'levis']"
            ]
          },
          "metadata": {
            "tags": []
          },
          "execution_count": 5
        }
      ]
    },
    {
      "cell_type": "code",
      "metadata": {
        "colab": {
          "base_uri": "https://localhost:8080/"
        },
        "id": "NiWJUbB-fwd0",
        "outputId": "0d7bda1c-8c26-435d-d199-fe8f2f5e6861"
      },
      "source": [
        "Order= sorted(list_brandnames) # arranging in the ascending order\n",
        "print(\"Ascending Order:  \",Order)\n",
        "\n"
      ],
      "execution_count": null,
      "outputs": [
        {
          "output_type": "stream",
          "text": [
            "Ascending Order:   ['addidas', 'bata', 'crocs', 'gucci', 'h&m', 'levis', 'nike', 'sketchers', 'veromoda', 'zara']\n"
          ],
          "name": "stdout"
        }
      ]
    },
    {
      "cell_type": "code",
      "metadata": {
        "colab": {
          "base_uri": "https://localhost:8080/"
        },
        "id": "ICbh__DngYjv",
        "outputId": "914da18a-115f-4b56-fa5d-7572e613e679"
      },
      "source": [
        "reverseOrder = sorted(list_brandnames, reverse=True) #if we want to check the reverse order\n",
        "print(\"Reverse Order:  \", reverseOrder)"
      ],
      "execution_count": null,
      "outputs": [
        {
          "output_type": "stream",
          "text": [
            "Reverse Order:   ['zara', 'veromoda', 'sketchers', 'nike', 'levis', 'h&m', 'gucci', 'crocs', 'bata', 'addidas']\n"
          ],
          "name": "stdout"
        }
      ]
    },
    {
      "cell_type": "markdown",
      "metadata": {
        "id": "L9EudThmivSc"
      },
      "source": [
        "Q2. List of overlapping brand names in both lists"
      ]
    },
    {
      "cell_type": "code",
      "metadata": {
        "id": "NrHZb8ivvFbc"
      },
      "source": [
        "list_a =[\"addidas\" , \"nike\", \"sketchers\",\"crocs\",\"zara\"] #creating lista & list b\n",
        "list_b = [\"h&m\",\"crocs\",\"gucci\",\"nike\",\"zara\"]"
      ],
      "execution_count": null,
      "outputs": []
    },
    {
      "cell_type": "code",
      "metadata": {
        "id": "lF_DgZGNxwdX"
      },
      "source": [
        "overlapping = set(list_a).intersection(list_b)"
      ],
      "execution_count": null,
      "outputs": []
    },
    {
      "cell_type": "code",
      "metadata": {
        "id": "QRyF_u7aySul"
      },
      "source": [
        "overlapping_list = list(overlapping)"
      ],
      "execution_count": null,
      "outputs": []
    },
    {
      "cell_type": "code",
      "metadata": {
        "colab": {
          "base_uri": "https://localhost:8080/"
        },
        "id": "fm44DNjhyaLA",
        "outputId": "eb8478ee-8887-4321-9998-4978fbe85ee5"
      },
      "source": [
        "overlapping_list # checking the overlapping names in the list"
      ],
      "execution_count": null,
      "outputs": [
        {
          "output_type": "execute_result",
          "data": {
            "text/plain": [
              "['crocs', 'zara', 'nike']"
            ]
          },
          "metadata": {
            "tags": []
          },
          "execution_count": 7
        }
      ]
    },
    {
      "cell_type": "markdown",
      "metadata": {
        "id": "h1d006H6yrUI"
      },
      "source": [
        "Q3. Print even numbers starting with 20 & ending with 40"
      ]
    },
    {
      "cell_type": "code",
      "metadata": {
        "colab": {
          "base_uri": "https://localhost:8080/"
        },
        "id": "aDyFD-Lh0Itk",
        "outputId": "424ec7e0-0b62-43f4-f000-ab046d0ca2eb"
      },
      "source": [
        "for i in range(20,41,2):\n",
        "  print(i,end=\" \") #printing the even numbers between 20 to 40"
      ],
      "execution_count": null,
      "outputs": [
        {
          "output_type": "stream",
          "text": [
            "20 22 24 26 28 30 32 34 36 38 40 "
          ],
          "name": "stdout"
        }
      ]
    }
  ]
}